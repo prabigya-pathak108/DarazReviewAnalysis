{
 "cells": [
  {
   "cell_type": "code",
   "execution_count": 3,
   "metadata": {},
   "outputs": [],
   "source": [
    "import csv\n",
    "from google_play_scraper import Sort, reviews_all,app\n",
    "import json\n",
    "from langdetect import detect\n",
    "import re\n",
    "import pandas as pd"
   ]
  },
  {
   "cell_type": "code",
   "execution_count": 2,
   "metadata": {},
   "outputs": [],
   "source": [
    "app_id = 'com.daraz.android'\n"
   ]
  },
  {
   "cell_type": "code",
   "execution_count": 4,
   "metadata": {},
   "outputs": [
    {
     "name": "stdout",
     "output_type": "stream",
     "text": [
      "{'title': 'Daraz Online Shopping App', 'description': '<center><h1><b>Daraz 11.11 biggest sale of the year is here! </b></h1></center>\\r\\nGet the biggest savings with nationwide free delivery, mega deals, flash deals and more.\\r\\nStarting from 25 October, shop from over thousands of brands on Daraz, all at the lowest prices. It’s the biggest sale of the year that you won’t want to miss! \\r\\nHere’s what Daraz 11.11 has in store for you: \\r\\n<b>EXCLUSIVE DISCOUNT ON YOUR FIRST ORDER</b>\\r\\nNew buyers get an exclusive discount on their first order. Download the Daraz app now for more discounts\\r\\n<b>FREE DELIVERY</b>\\r\\nShop and order from the convenience of your home, and get your items delivered for free. \\r\\n<b>LOWER PRICES THAN ANYWHERE ELSE</b>\\r\\nBuy your favourite products on Daraz at lower prices than anywhere else! \\r\\n• Any 3 Deals: Buy Any 3 items for 6 USD \\r\\n• Everyday Low Price: Best budget finds from as low as under 1 USD\\r\\n• 11.11 Deals: Enjoy a wide range of discounts from limited time flash deals to mega deals up to 90% off.\\r\\n<b>DARAZ LIVE STREAM</b>\\r\\nA fun and interactive way to shop with live streaming on Daraz. \\r\\nTune in to Daraz Live to watch your favourite influencers showcase the products before buying. Plus, additional discounts for Daraz Live viewers.\\r\\n<b>DARAZ CANDY</b>\\r\\nGet upsized rewards to offset your purchases when you play Daraz Candy during 11.11.\\r\\n<b>BUY EVERYTHING ON DARAZ</b>\\r\\n• Browse and shop from our range of categories, including health & beauty, electronics, fashion, home & living, and more\\r\\n• Get 100% authentic products from official brands on Daraz Mall\\r\\n• Transact with your preferred payment method - COD (Cash on Delivery), bank transfer, or credit card \\r\\n<b>SHOP WITHOUT WORRIES WITH DARAZ GUARANTEE</b>\\r\\n• Free and easy returns: If an item doesn’t meet your expectations, return the item in just 5 simple steps within 7 days (14 days for Daraz Mall)\\r\\n• Safe and secure payments: We are PCD-DSS compliant, which means all transaction data is encrypted, and the system is monitored for suspicious activity to ensure your safety \\r\\n• 24/7 Live Support: Need help? We are always here for you - connect with us for any questions \\r\\n\\r\\nIf you face any technical issues, please drop us a line at <b>support.app@daraz.com</b>', 'descriptionHTML': '<center><h1><b>Daraz 11.11 biggest sale of the year is here! </b></h1></center><br>Get the biggest savings with nationwide free delivery, mega deals, flash deals and more.<br>Starting from 25 October, shop from over thousands of brands on Daraz, all at the lowest prices. It’s the biggest sale of the year that you won’t want to miss! <br>Here’s what Daraz 11.11 has in store for you: <br><b>EXCLUSIVE DISCOUNT ON YOUR FIRST ORDER</b><br>New buyers get an exclusive discount on their first order. Download the Daraz app now for more discounts<br><b>FREE DELIVERY</b><br>Shop and order from the convenience of your home, and get your items delivered for free. <br><b>LOWER PRICES THAN ANYWHERE ELSE</b><br>Buy your favourite products on Daraz at lower prices than anywhere else! <br>• Any 3 Deals: Buy Any 3 items for 6 USD <br>• Everyday Low Price: Best budget finds from as low as under 1 USD<br>• 11.11 Deals: Enjoy a wide range of discounts from limited time flash deals to mega deals up to 90% off.<br><b>DARAZ LIVE STREAM</b><br>A fun and interactive way to shop with live streaming on Daraz. <br>Tune in to Daraz Live to watch your favourite influencers showcase the products before buying. Plus, additional discounts for Daraz Live viewers.<br><b>DARAZ CANDY</b><br>Get upsized rewards to offset your purchases when you play Daraz Candy during 11.11.<br><b>BUY EVERYTHING ON DARAZ</b><br>• Browse and shop from our range of categories, including health &amp; beauty, electronics, fashion, home &amp; living, and more<br>• Get 100% authentic products from official brands on Daraz Mall<br>• Transact with your preferred payment method - COD (Cash on Delivery), bank transfer, or credit card <br><b>SHOP WITHOUT WORRIES WITH DARAZ GUARANTEE</b><br>• Free and easy returns: If an item doesn’t meet your expectations, return the item in just 5 simple steps within 7 days (14 days for Daraz Mall)<br>• Safe and secure payments: We are PCD-DSS compliant, which means all transaction data is encrypted, and the system is monitored for suspicious activity to ensure your safety <br>• 24/7 Live Support: Need help? We are always here for you - connect with us for any questions <br><br>If you face any technical issues, please drop us a line at <b>support.app@daraz.com</b>', 'summary': 'Explore, Discover, Shop.', 'installs': '100,000,000+', 'minInstalls': 100000000, 'realInstalls': 106555766, 'score': 4.1704154, 'ratings': 3565253, 'reviews': 7654, 'histogram': [403756, 128286, 253724, 450000, 2329293], 'price': 0, 'free': True, 'currency': 'USD', 'sale': False, 'saleTime': None, 'originalPrice': None, 'saleText': None, 'offersIAP': False, 'inAppProductPrice': None, 'developer': 'Daraz Mobile', 'developerId': 'Daraz+Mobile', 'developerEmail': 'support.app@daraz.com', 'developerWebsite': 'https://www.daraz.com', 'developerAddress': None, 'privacyPolicy': 'http://www.daraz.pk/privacy/', 'genre': 'Shopping', 'genreId': 'SHOPPING', 'categories': [{'name': 'Shopping', 'id': 'SHOPPING'}], 'icon': 'https://play-lh.googleusercontent.com/QoiGnvynjBjtraueo9bqoSceqfJb6oMRmHl4qMd3D6qXzb5egnqS2HPmSVK0eSoUQIQ', 'headerImage': 'https://play-lh.googleusercontent.com/jpHf1z2spJxaPMFSVkQecb8TrgINjiw8jSwz8UN-E9qwvCQWiLF_ep_HnP8KBudQmOE6', 'screenshots': ['https://play-lh.googleusercontent.com/rm7Lt-qN44eYBuSqF6-z7jgK_wF3M0QMuOxTFH7stoOJ-UyhrukZRkDdKF0AwU4sBg', 'https://play-lh.googleusercontent.com/BKCve1W6hqMUgIoSDQ68XydggVubzGbpF1rnzifmSQCYxF78JZYcP_MfNPDC6RgDlQ', 'https://play-lh.googleusercontent.com/DaJYQhSQSbdhLwOo8GtYr8GYsqMVnAClqPdlAVDCX35EoOsPI3OHSCJr6H8TCtlZhxg', 'https://play-lh.googleusercontent.com/TGSQHsrlOXF9BjZrK2Oly6C19FI8Ualy-OBsH2e-OGrRmT4Yqv76dPKVszOrkkabHg', 'https://play-lh.googleusercontent.com/bBChachO_hw9NWRTT7QnN_udx5WUGYABFRtawDrwDLek19_Pjby363GuYMrKNFc3evo', 'https://play-lh.googleusercontent.com/RYS3Lu83KjnvYi0wJ7GbduatDZoSVlROgWgTGh39OM19Kz0DZFubaNtEqYaobUYNV1s', 'https://play-lh.googleusercontent.com/Qb46Cnqm-rpMvdJORKvUwNFia8Wnf-MN0tA5XNXFxUzfI3xj8zXT4h_s1RD-wxrkI5I', 'https://play-lh.googleusercontent.com/1TnxLbOv120lbhMZL1RBOAKRw4qfEKfyHyhnNkbxoB77aNn1CIDdGjOj9Qo1Tq-N8Hk', 'https://play-lh.googleusercontent.com/ud_CXbUdBajaDaR1LtZePtTIkGl8F8Sl1dVHRdzPpXjcapqUJnp0k4dHHUc9X2XUAzQ', 'https://play-lh.googleusercontent.com/oQe2ABvJlRfNCvNtzUHRjSQyS5h6Wztlxl05lkbZrD2Km-7rS1-Z-WfvU72OeTpOxA'], 'video': None, 'videoImage': None, 'contentRating': 'Teen', 'contentRatingDescription': 'Diverse Content: Discretion Advised', 'adSupported': True, 'containsAds': True, 'released': 'Sep 26, 2016', 'lastUpdatedOn': 'Jun 20, 2024', 'updated': 1718945602, 'version': '8.0.3', 'comments': [], 'appId': 'com.daraz.android', 'url': 'https://play.google.com/store/apps/details?id=com.daraz.android&hl=en&gl=us'}\n"
     ]
    }
   ],
   "source": [
    "result = app(\n",
    "    app_id,\n",
    "    lang='en', # defaults to 'en'\n",
    "    country='us' # defaults to 'us'\n",
    ")\n",
    "print(result)"
   ]
  },
  {
   "cell_type": "code",
   "execution_count": 6,
   "metadata": {},
   "outputs": [],
   "source": [
    "out_file = open(\"app_data.json\", \"w+\")\n",
    "\n",
    "json.dump(result, out_file, indent = 6)\n",
    "\n",
    "out_file.close()"
   ]
  },
  {
   "cell_type": "code",
   "execution_count": 7,
   "metadata": {},
   "outputs": [],
   "source": [
    "all_reviews = reviews_all(\n",
    "    app_id,\n",
    "    lang='en',  # Reviews in English\n",
    "    sort=Sort.NEWEST  # Sort reviews by newest\n",
    ")"
   ]
  },
  {
   "cell_type": "code",
   "execution_count": 19,
   "metadata": {},
   "outputs": [
    {
     "name": "stdout",
     "output_type": "stream",
     "text": [
      "Saved 171000 reviews to app_reviews.csv\n"
     ]
    }
   ],
   "source": [
    "\n",
    "# Define the CSV file name\n",
    "csv_file_name = 'app_reviews.csv'\n",
    "\n",
    "# Write reviews to CSV\n",
    "\n",
    "# commented this so that the file is not created unintentionally\n",
    "# with open(csv_file_name, mode='w', newline='', encoding='utf-8') as file:\n",
    "#     writer = csv.writer(file)\n",
    "#     writer.writerow(['score', 'at', 'text'])\n",
    "\n",
    "#     for review in all_reviews:\n",
    "\n",
    "#         #write into scv file if review is written in english\n",
    "#         # LangDetectException can arise if language isnot known \n",
    "#         try:\n",
    "#             lang_detected= detect(str(review['content']))\n",
    "#             if lang_detected== \"en\":\n",
    "#                 writer.writerow([ review['score'], review['at'], review['content']])\n",
    "#         except:\n",
    "#             pass\n",
    "\n",
    "print(f\"Saved {len(all_reviews)} reviews to {csv_file_name}\")"
   ]
  }
 ],
 "metadata": {
  "kernelspec": {
   "display_name": ".venv",
   "language": "python",
   "name": "python3"
  },
  "language_info": {
   "codemirror_mode": {
    "name": "ipython",
    "version": 3
   },
   "file_extension": ".py",
   "mimetype": "text/x-python",
   "name": "python",
   "nbconvert_exporter": "python",
   "pygments_lexer": "ipython3",
   "version": "3.10.13"
  }
 },
 "nbformat": 4,
 "nbformat_minor": 2
}
